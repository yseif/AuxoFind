{
 "cells": [
  {
   "cell_type": "markdown",
   "metadata": {},
   "source": [
    "### Prerequisites\n",
    "#### 1) cobrapy\n",
    "One can install cobrapy (https://cobrapy.readthedocs.io/en/latest/)\n",
    "\n",
    "through Anaconda: conda install -c bioconda cobra\n",
    "OR\n",
    "through pip: pip install cobra\n",
    "\n",
    "More infor available here: https://github.com/opencobra/cobrapy\n",
    "\n",
    "#### 2) iML1515.json\n",
    "It is the latest E. coli Genome scale metabolic model. This can be obtained through Bigg database http://bigg.ucsd.edu/\n",
    "\n",
    "#### 3) Gurobi solver\n",
    "https://www.gurobi.com/downloads/gurobi-software/"
   ]
  },
  {
   "cell_type": "code",
   "execution_count": 1,
   "metadata": {},
   "outputs": [],
   "source": [
    "from AuxoFind import *\n",
    "import os"
   ]
  },
  {
   "cell_type": "code",
   "execution_count": 2,
   "metadata": {},
   "outputs": [
    {
     "name": "stdout",
     "output_type": "stream",
     "text": [
      "Academic license - for non-commercial use only\n"
     ]
    }
   ],
   "source": [
    "directory = os.getcwd()\n",
    "model = cobra.io.load_json_model('%s/iML1515.json'%directory) # replace with iML1515 directory"
   ]
  },
  {
   "cell_type": "markdown",
   "metadata": {},
   "source": [
    "**You can get the conditionally essential genes (CEGs) for a model using**"
   ]
  },
  {
   "cell_type": "code",
   "execution_count": 9,
   "metadata": {},
   "outputs": [
    {
     "name": "stdout",
     "output_type": "stream",
     "text": [
      "The model predicts 109 conditionally essential genes in M9+glucose minimal medium.\n"
     ]
    }
   ],
   "source": [
    "M9_medium = {'EX_h2o_e', 'EX_mn2_e', 'EX_glc__D_e', 'EX_ni2_e', 'EX_sel_e', 'EX_o2_e', 'EX_cu2_e', 'EX_pi_e', 'EX_h_e', 'EX_mobd_e', \n",
    "             'EX_tungs_e', 'EX_na1_e', 'EX_zn2_e', 'EX_ca2_e', 'EX_cl_e', 'EX_fe3_e', 'EX_so4_e', 'EX_slnt_e', 'EX_mg2_e', 'EX_co2_e',\n",
    "             'EX_k_e', 'EX_nh4_e', 'EX_fe2_e', 'EX_cobalt2_e'}\n",
    "CEGs = get_CEGs(model, growth_medium = M9_medium)\n",
    "print('The model predicts %d conditionally essential genes in M9+glucose minimal medium.'%(len(CEGs)))"
   ]
  },
  {
   "cell_type": "markdown",
   "metadata": {},
   "source": [
    "**Assuming you have a list of missing/disrupted genes which you can obtain via any method of your choice**"
   ]
  },
  {
   "cell_type": "code",
   "execution_count": 4,
   "metadata": {},
   "outputs": [
    {
     "name": "stdout",
     "output_type": "stream",
     "text": [
      "Number of solutions: 50\n"
     ]
    },
    {
     "name": "stderr",
     "output_type": "stream",
     "text": [
      "/home/yara/Documents/Auxotrophy/code_for_publication/AuxoFind.py:118 \u001b[1;31mUserWarning\u001b[0m: The gene (b2677) is not conditionally essential. Its knock-out has no effect on growth.\n"
     ]
    },
    {
     "name": "stdout",
     "output_type": "stream",
     "text": [
      "Number of solutions: 50\n"
     ]
    },
    {
     "data": {
      "text/plain": [
       "{'b0243': [['EX_progly_e'], ['EX_pro__L_e']],\n",
       " 'b1262': [['EX_indole_e'], ['EX_trp__L_e']]}"
      ]
     },
     "execution_count": 4,
     "metadata": {},
     "output_type": "execute_result"
    }
   ],
   "source": [
    "missing_genes = {'b2677', 'b0243', 'b1262'}\n",
    "auxotrophies = get_auxotrophies(model, missing_genes, method = 'single_search')\n",
    "\n",
    "auxotrophies"
   ]
  },
  {
   "cell_type": "markdown",
   "metadata": {},
   "source": [
    "**Notice the warning, one of the genes (b2677) is not a CEG. If you remove the gene from the list of missing CEGs, the warning disappears**"
   ]
  },
  {
   "cell_type": "code",
   "execution_count": 5,
   "metadata": {},
   "outputs": [
    {
     "name": "stdout",
     "output_type": "stream",
     "text": [
      "Number of solutions: 50\n",
      "Number of solutions: 50\n"
     ]
    },
    {
     "data": {
      "text/plain": [
       "{'b0243': [['EX_progly_e']], 'b1262': [['EX_indole_e'], ['EX_trp__L_e']]}"
      ]
     },
     "execution_count": 5,
     "metadata": {},
     "output_type": "execute_result"
    }
   ],
   "source": [
    "missing_genes = {'b0243', 'b1262'}\n",
    "auxotrophies = get_auxotrophies(model, missing_genes, method = 'single_search')\n",
    "\n",
    "auxotrophies"
   ]
  },
  {
   "cell_type": "markdown",
   "metadata": {},
   "source": [
    "**The function returns a dictionary mapping each gene to the nutrients that the model needs to simulate growth.\n",
    "For the single_search option, a list of all solutions is provided. When there are two nutrients that are simulatenous required, they are featured within the same list, \n",
    "When two solutions are equivalent, they are featured in different lists. Here's another way to present the results**"
   ]
  },
  {
   "cell_type": "code",
   "execution_count": 6,
   "metadata": {},
   "outputs": [
    {
     "data": {
      "text/plain": [
       "{'proA': 'L-Prolinylglycine', 'trpC': 'Indole OR L-Tryptophan'}"
      ]
     },
     "execution_count": 6,
     "metadata": {},
     "output_type": "execute_result"
    }
   ],
   "source": [
    "auxotrophies_t = {model.genes.get_by_id(gene).name: ' OR '.join([' AND '.join([model.metabolites.get_by_id(rx.replace('EX_','')).name for rx in rx_l]) for rx_l in rxs]) for gene, rxs in auxotrophies.items()}\n",
    "auxotrophies_t"
   ]
  },
  {
   "cell_type": "markdown",
   "metadata": {},
   "source": [
    "**What if you're only interested in getting one single solution? In that case just remove the method setting and it will return to the default (optimal_solution)**"
   ]
  },
  {
   "cell_type": "code",
   "execution_count": 7,
   "metadata": {},
   "outputs": [
    {
     "data": {
      "text/plain": [
       "{'b0243': dict_keys(['EX_progly_e']), 'b1262': dict_keys(['EX_trp__L_e'])}"
      ]
     },
     "execution_count": 7,
     "metadata": {},
     "output_type": "execute_result"
    }
   ],
   "source": [
    "auxotrophies = get_auxotrophies(model, missing_genes)\n",
    "\n",
    "auxotrophies"
   ]
  },
  {
   "cell_type": "markdown",
   "metadata": {},
   "source": [
    "**You can also add a list of nutrients that you would like to exclude from the solution. For example L-prolinylglycine might not provide sufficient resolution, and you might prefer to know whether the strain is auxotrophic for L-proline specifically or L-glycine.**"
   ]
  },
  {
   "cell_type": "code",
   "execution_count": 8,
   "metadata": {},
   "outputs": [
    {
     "name": "stdout",
     "output_type": "stream",
     "text": [
      "Number of solutions: 50\n",
      "Number of solutions: 50\n"
     ]
    },
    {
     "data": {
      "text/plain": [
       "{'proA': 'L-Proline', 'trpC': 'Indole OR L-Tryptophan'}"
      ]
     },
     "execution_count": 8,
     "metadata": {},
     "output_type": "execute_result"
    }
   ],
   "source": [
    "auxotrophies = get_auxotrophies(model, missing_genes, method = 'single_search', force_to_zero = ['EX_progly_e'])\n",
    "auxotrophies_t = {model.genes.get_by_id(gene).name: ' OR '.join([' AND '.join([model.metabolites.get_by_id(rx.replace('EX_','')).name for rx in rx_l]) for rx_l in rxs]) for gene, rxs in auxotrophies.items()}\n",
    "auxotrophies_t"
   ]
  },
  {
   "cell_type": "markdown",
   "metadata": {},
   "source": [
    "**type ?function_name to get specifics about function settings**"
   ]
  },
  {
   "cell_type": "code",
   "execution_count": 18,
   "metadata": {},
   "outputs": [],
   "source": [
    "?get_auxotrophies"
   ]
  },
  {
   "cell_type": "code",
   "execution_count": null,
   "metadata": {},
   "outputs": [],
   "source": []
  }
 ],
 "metadata": {
  "kernelspec": {
   "display_name": "Python 3",
   "language": "python",
   "name": "python3"
  },
  "language_info": {
   "codemirror_mode": {
    "name": "ipython",
    "version": 3
   },
   "file_extension": ".py",
   "mimetype": "text/x-python",
   "name": "python",
   "nbconvert_exporter": "python",
   "pygments_lexer": "ipython3",
   "version": "3.5.2"
  }
 },
 "nbformat": 4,
 "nbformat_minor": 2
}
